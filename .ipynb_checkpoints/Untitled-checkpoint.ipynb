{
 "cells": [
  {
   "cell_type": "code",
   "execution_count": 1,
   "id": "65438dcc",
   "metadata": {},
   "outputs": [],
   "source": [
    "import pandas as pd\n",
    "import numpy as np"
   ]
  },
  {
   "cell_type": "code",
   "execution_count": 2,
   "id": "fe059f1f",
   "metadata": {},
   "outputs": [
    {
     "data": {
      "text/html": [
       "<style type=\"text/css\">\n",
       "#T_8d5f6 tr:hover {\n",
       "  background-color: yellow;\n",
       "}\n",
       "</style>\n",
       "<table id=\"T_8d5f6\">\n",
       "  <thead>\n",
       "    <tr>\n",
       "      <th class=\"blank level0\" >&nbsp;</th>\n",
       "      <th id=\"T_8d5f6_level0_col0\" class=\"col_heading level0 col0\" >0</th>\n",
       "      <th id=\"T_8d5f6_level0_col1\" class=\"col_heading level0 col1\" >1</th>\n",
       "      <th id=\"T_8d5f6_level0_col2\" class=\"col_heading level0 col2\" >2</th>\n",
       "    </tr>\n",
       "  </thead>\n",
       "  <tbody>\n",
       "    <tr>\n",
       "      <th id=\"T_8d5f6_level0_row0\" class=\"row_heading level0 row0\" >0</th>\n",
       "      <td id=\"T_8d5f6_row0_col0\" class=\"data row0 col0\" >0.224513</td>\n",
       "      <td id=\"T_8d5f6_row0_col1\" class=\"data row0 col1\" >-0.833616</td>\n",
       "      <td id=\"T_8d5f6_row0_col2\" class=\"data row0 col2\" >-0.996632</td>\n",
       "    </tr>\n",
       "    <tr>\n",
       "      <th id=\"T_8d5f6_level0_row1\" class=\"row_heading level0 row1\" >1</th>\n",
       "      <td id=\"T_8d5f6_row1_col0\" class=\"data row1 col0\" >1.276973</td>\n",
       "      <td id=\"T_8d5f6_row1_col1\" class=\"data row1 col1\" >0.356690</td>\n",
       "      <td id=\"T_8d5f6_row1_col2\" class=\"data row1 col2\" >-0.961574</td>\n",
       "    </tr>\n",
       "    <tr>\n",
       "      <th id=\"T_8d5f6_level0_row2\" class=\"row_heading level0 row2\" >2</th>\n",
       "      <td id=\"T_8d5f6_row2_col0\" class=\"data row2 col0\" >0.564562</td>\n",
       "      <td id=\"T_8d5f6_row2_col1\" class=\"data row2 col1\" >-0.970507</td>\n",
       "      <td id=\"T_8d5f6_row2_col2\" class=\"data row2 col2\" >0.213232</td>\n",
       "    </tr>\n",
       "    <tr>\n",
       "      <th id=\"T_8d5f6_level0_row3\" class=\"row_heading level0 row3\" >3</th>\n",
       "      <td id=\"T_8d5f6_row3_col0\" class=\"data row3 col0\" >-0.907962</td>\n",
       "      <td id=\"T_8d5f6_row3_col1\" class=\"data row3 col1\" >-1.166431</td>\n",
       "      <td id=\"T_8d5f6_row3_col2\" class=\"data row3 col2\" >0.352211</td>\n",
       "    </tr>\n",
       "    <tr>\n",
       "      <th id=\"T_8d5f6_level0_row4\" class=\"row_heading level0 row4\" >4</th>\n",
       "      <td id=\"T_8d5f6_row4_col0\" class=\"data row4 col0\" >-0.716039</td>\n",
       "      <td id=\"T_8d5f6_row4_col1\" class=\"data row4 col1\" >-1.971109</td>\n",
       "      <td id=\"T_8d5f6_row4_col2\" class=\"data row4 col2\" >-1.785766</td>\n",
       "    </tr>\n",
       "  </tbody>\n",
       "</table>\n"
      ],
      "text/plain": [
       "<pandas.io.formats.style.Styler at 0x7f7ffe43b880>"
      ]
     },
     "execution_count": 2,
     "metadata": {},
     "output_type": "execute_result"
    }
   ],
   "source": [
    "df = pd.DataFrame(np.random.randn(5, 3))\n",
    "df.style.set_table_styles(\n",
    "[{'selector': 'tr:hover',\n",
    "  'props': [('background-color', 'yellow')]}\n",
    "])"
   ]
  },
  {
   "cell_type": "code",
   "execution_count": null,
   "id": "ebf20bb7",
   "metadata": {},
   "outputs": [],
   "source": []
  }
 ],
 "metadata": {
  "kernelspec": {
   "display_name": "Python 3 (ipykernel)",
   "language": "python",
   "name": "python3"
  },
  "language_info": {
   "codemirror_mode": {
    "name": "ipython",
    "version": 3
   },
   "file_extension": ".py",
   "mimetype": "text/x-python",
   "name": "python",
   "nbconvert_exporter": "python",
   "pygments_lexer": "ipython3",
   "version": "3.9.13"
  }
 },
 "nbformat": 4,
 "nbformat_minor": 5
}
