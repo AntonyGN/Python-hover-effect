{
 "cells": [
  {
   "cell_type": "code",
   "execution_count": 2,
   "id": "8f6980cf",
   "metadata": {},
   "outputs": [],
   "source": [
    "#import the necessary libraries\n",
    "import pandas as pd\n",
    "import numpy as np"
   ]
  },
  {
   "cell_type": "code",
   "execution_count": 3,
   "id": "e5f4be4e",
   "metadata": {},
   "outputs": [
    {
     "data": {
      "text/html": [
       "<style type=\"text/css\">\n",
       "#T_c858f tr:hover {\n",
       "  background-color: yellow;\n",
       "}\n",
       "</style>\n",
       "<table id=\"T_c858f\">\n",
       "  <thead>\n",
       "    <tr>\n",
       "      <th class=\"blank level0\" >&nbsp;</th>\n",
       "      <th id=\"T_c858f_level0_col0\" class=\"col_heading level0 col0\" >0</th>\n",
       "      <th id=\"T_c858f_level0_col1\" class=\"col_heading level0 col1\" >1</th>\n",
       "      <th id=\"T_c858f_level0_col2\" class=\"col_heading level0 col2\" >2</th>\n",
       "    </tr>\n",
       "  </thead>\n",
       "  <tbody>\n",
       "    <tr>\n",
       "      <th id=\"T_c858f_level0_row0\" class=\"row_heading level0 row0\" >0</th>\n",
       "      <td id=\"T_c858f_row0_col0\" class=\"data row0 col0\" >0.326476</td>\n",
       "      <td id=\"T_c858f_row0_col1\" class=\"data row0 col1\" >0.403932</td>\n",
       "      <td id=\"T_c858f_row0_col2\" class=\"data row0 col2\" >-0.837861</td>\n",
       "    </tr>\n",
       "    <tr>\n",
       "      <th id=\"T_c858f_level0_row1\" class=\"row_heading level0 row1\" >1</th>\n",
       "      <td id=\"T_c858f_row1_col0\" class=\"data row1 col0\" >-1.252905</td>\n",
       "      <td id=\"T_c858f_row1_col1\" class=\"data row1 col1\" >-0.239721</td>\n",
       "      <td id=\"T_c858f_row1_col2\" class=\"data row1 col2\" >0.550699</td>\n",
       "    </tr>\n",
       "    <tr>\n",
       "      <th id=\"T_c858f_level0_row2\" class=\"row_heading level0 row2\" >2</th>\n",
       "      <td id=\"T_c858f_row2_col0\" class=\"data row2 col0\" >-0.464720</td>\n",
       "      <td id=\"T_c858f_row2_col1\" class=\"data row2 col1\" >-1.681229</td>\n",
       "      <td id=\"T_c858f_row2_col2\" class=\"data row2 col2\" >0.591476</td>\n",
       "    </tr>\n",
       "    <tr>\n",
       "      <th id=\"T_c858f_level0_row3\" class=\"row_heading level0 row3\" >3</th>\n",
       "      <td id=\"T_c858f_row3_col0\" class=\"data row3 col0\" >1.220141</td>\n",
       "      <td id=\"T_c858f_row3_col1\" class=\"data row3 col1\" >1.066364</td>\n",
       "      <td id=\"T_c858f_row3_col2\" class=\"data row3 col2\" >-1.779931</td>\n",
       "    </tr>\n",
       "    <tr>\n",
       "      <th id=\"T_c858f_level0_row4\" class=\"row_heading level0 row4\" >4</th>\n",
       "      <td id=\"T_c858f_row4_col0\" class=\"data row4 col0\" >0.637443</td>\n",
       "      <td id=\"T_c858f_row4_col1\" class=\"data row4 col1\" >-0.206165</td>\n",
       "      <td id=\"T_c858f_row4_col2\" class=\"data row4 col2\" >0.444318</td>\n",
       "    </tr>\n",
       "  </tbody>\n",
       "</table>\n"
      ],
      "text/plain": [
       "<pandas.io.formats.style.Styler at 0x7fc0d5cc3c10>"
      ]
     },
     "execution_count": 3,
     "metadata": {},
     "output_type": "execute_result"
    }
   ],
   "source": [
    "#pd.DataFrame() function takes in the randomly generated data and creates a DataFrame object with it. \n",
    "df = pd.DataFrame(np.random.randn(5, 3))\n",
    "#.style.set_table_styles() method to modify the styling of the DataFrame when it is displayed.\n",
    "df.style.set_table_styles(\n",
    "[{'selector': 'tr:hover',\n",
    "  'props': [('background-color', 'yellow')]}\n",
    "])"
   ]
  },
  {
   "cell_type": "code",
   "execution_count": null,
   "id": "8dbf17b3",
   "metadata": {},
   "outputs": [],
   "source": []
  }
 ],
 "metadata": {
  "kernelspec": {
   "display_name": "Python 3 (ipykernel)",
   "language": "python",
   "name": "python3"
  },
  "language_info": {
   "codemirror_mode": {
    "name": "ipython",
    "version": 3
   },
   "file_extension": ".py",
   "mimetype": "text/x-python",
   "name": "python",
   "nbconvert_exporter": "python",
   "pygments_lexer": "ipython3",
   "version": "3.9.13"
  }
 },
 "nbformat": 4,
 "nbformat_minor": 5
}
